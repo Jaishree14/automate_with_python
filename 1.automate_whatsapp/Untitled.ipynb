{
 "cells": [
  {
   "cell_type": "code",
   "execution_count": 1,
   "id": "e7eff46a-1c38-473f-86c6-24cec5ec6b03",
   "metadata": {},
   "outputs": [],
   "source": [
    "import pywhatkit as pkit"
   ]
  },
  {
   "cell_type": "code",
   "execution_count": 2,
   "id": "95c18f7d-5814-4ddd-ad28-dfd9124de12b",
   "metadata": {},
   "outputs": [
    {
     "name": "stdout",
     "output_type": "stream",
     "text": [
      "In 49 seconds web.whatsapp.com will open and after 20 seconds message will be delivered\n"
     ]
    }
   ],
   "source": [
    "#automate_whatsapp_msgs\n",
    "#pkit.sendwhatmsg('phone number with country code','message',hour,minute)\n",
    "pkit.sendwhatmsg('+91 88252 97825','Hello dimpal',23,29)"
   ]
  },
  {
   "cell_type": "code",
   "execution_count": 3,
   "id": "33a4d910-1789-4ab7-92f9-5a88b3129a44",
   "metadata": {},
   "outputs": [
    {
     "data": {
      "text/plain": [
       "'https://www.youtube.com/watch?v=gfDE2a7MKjA'"
      ]
     },
     "execution_count": 3,
     "metadata": {},
     "output_type": "execute_result"
    }
   ],
   "source": [
    "#automate_playing_youtube_video \n",
    "pkit.playonyt('study python')"
   ]
  },
  {
   "cell_type": "code",
   "execution_count": 4,
   "id": "3aed826a-e255-48d6-9293-7bdd0ad50f46",
   "metadata": {},
   "outputs": [],
   "source": [
    "#automate_websearch\n",
    "pkit.search('automate with python')"
   ]
  },
  {
   "cell_type": "code",
   "execution_count": 5,
   "id": "e018ffb0-4148-4a05-8e60-cd99bcf3da3b",
   "metadata": {},
   "outputs": [
    {
     "name": "stdout",
     "output_type": "stream",
     "text": [
      "Python is an interpreted high-level general-purpose programming language. Python's design philosophy emphasizes code readability with its notable use of significant indentation. Its language constructs as well as its object-oriented approach aim to help programmers write clear, logical code for small and large-scale projects.Python is dynamically-typed and garbage-collected.\n"
     ]
    }
   ],
   "source": [
    "#automate to fetch information about any topic.\n",
    "pkit.info(\"Python language\")"
   ]
  },
  {
   "cell_type": "code",
   "execution_count": 6,
   "id": "046655cc-98c9-4088-8719-0036bc86e11a",
   "metadata": {},
   "outputs": [
    {
     "data": {
      "text/plain": [
       "':::::::::::::::::::::::::::::::!!!!!!:::::::::::::::::::::::::::::::::::::::::::\\n::::::::::::::::::::::::::::::::::::::::::::::::::::::::::::::::::::::::::::::::\\n::::::::::::::::::::::::::::::::::::::::::::::::::::::::::::::::::::::::::::::::\\n::::::::::::::::::::::::::::::::::::::::::::::::::::::::::::::::::::::::::::::::\\n::::::::::::::::::::::::::::::::::::::::::::::::::::::::::::::::::::::::::::::::\\n:::::::::::::::::::::::::::::::::::::::::::!::::::::::::::::::::::::::::::::::::\\n:::::::::::::::::::::::::::::::::::::::::::%*!::::::::::::::::::::::::::::::::::\\n::::::::::::::::!:::::::::::::::::::::::::*$***:::::::::::::::::::::::::::::::::\\n:::::::::::::::!::::::::::::::::::::::::!%$!:%$*::::::::::::::::::::::::::::::::\\n::::::::::::::!::!!::::::!:::::::::!!:!*%%::::%$%!!:::::::::::::::::::::::::::::\\n:::::::::::::!::!!:::::::::!!:::::!!!!**!::::::%$$%*!!::::::::::::::::::::::::::\\n:::::::::::::::!!::::::::!!!:!*!!****!::::::::::!$@%%*!!:::!::::::::::::::::::::\\n::::::::::::::!!::::::!!::::!***!!:::::::::::::::!$$*%**!:::::::::::::::::::::::\\n::::::::::::::!::::!!:::::!%%*!:::::::::::::::::::!@*!!**!::!:::::::::::::::::::\\n:::::::::::::!::::!::::!%$$%%%%%**!::::::!!*%%%%%%*%&!:::*!:!:::::::::::::::::::\\n::::::::::::::::::::!*$%*!:::!!*%%%!::::!%%%*!:::!**@&::::!*:!::::::::::::::::::\\n::::::::::::::::::!*@$!.:*%%%%*::::::::::::!*%$$*!::!&$::::!!!::::::::::::::::::\\n::::::::::::::::!!%#%!:%&SSSS##@*::::::::!$&&S#SSS&%!*#*:::::!::::::::::::::::::\\n::::::::::::::!*!!@#*!!%##@%#&S#@::::::::!$*!&###S&*:!$@*::::!!:::::::::::::::::\\n::::::::::::!**::%*@%!::%&&@$$%*!::::::::::!!%$@@%!::*$$$:::::::::::::::::::::::\\n:::::::::::!!!::*!*$**:::::!!::::::::::::::::::::.::!%@%%%::::::::::::::::::::::\\n::::::::::!!:::!$*!$$*!::::::::::::::::::::::::::::!*$$!!$!:::::::::::::::::::::\\n::::::::::!!:::!!$%!%$!:::::::::::!:::::!::::::::::!%@:!%%!!::::!:::::::::::::::\\n:::::::::::!!:!:::*%*@%!::::::::::!*%*!*!::::::::::!@@*%!*!:::::!!::::::::::::::\\n:::::::::::!!:!:::::!%@*!::::::::::::!:::::::::::::%&*!::**:!::::**:::::::::::::\\n::::::::::!!!!*:::::::@$!::::::::!*$$$$%%!::::::::*&!.:::!*:::::::%!::::::::::::\\n::::::::::*:!!*:!:::::!&$!::::::*@&&##&&&&*::::::!@*:::::**::::::::%!:::::::::::\\n::::::::::*:::!**!::::::@@*::::::*@@@@@$$*::::::*@*::::::*:::::::::*%:::::::::::\\n::::::::::*::::!*%:::::::$#@*:::::::!!!!:::::!*%@%::::::!*:::::::::!$::!::::::::\\n:::::::::!*:::::!$*:::::::!&#@%*:::::::::::*%%!*%:::::::*:::::::::::$:::::::::::\\n:::::::::*%::::::!$!::::::::$$%$$%!!:::!!**!::!$!::::::!*::::::::::!*:::::::::::\\n:::::::::*@!::::::*$!:::::::!$*!!!!*!!!!::::::%$::::::!*!:::::::::!*::::::::::::\\n:::::::::!@%:::::::*$!:::::::*$!::::::::::::::$%::::::!*:::::::::!!:::::::::::::\\n::::::::::%&!:!:::::!@%::::::!%*::::::::::::::@%:!:::::!:::!!!!:::::::::::::::::\\n:::::::::::$&!:!:::::!%%!::::!**!:::::::::::::%@:!!::!*!!******!::::::::::::::::\\n::::::::::::%@!:**:::::*%*::::!!!::::::::::::::%%:!::!**!!!:::::::::::::::::::::\\n::::::::::::.!$%!!%*:::::*%!:::!!!::::::::::::::%$!!::::::::::::::::::::::::::::\\n:::::::::::::::!****%%!::::**!::!!:::::::::::::::!%*!:::::::::::::::::::::::::::\\n:::::::::::::::::::::!**!::::!!::!!::::::::::::::::!**!!::::::::::::::::::::::::\\n::::::::::::::::::::::::!!!!:::::::!!:::::::::::::::::!!!!!!!!::::::::::::::::::\\n:::::::::::::::::::::::::::!*:::::::!!::::::::::::::::::::::::::::::::::::::::::\\n:::::::::::::::::::::::::::::*::::::::!:::::::::::::::::::::::::::::::::::::::::\\n::::::::::::::::::::::::::::::::::::::::::::::::::::::::::::::::::::::::::::::::\\n::::::::::::::::::::::::::::::::::::::::::::::::::::::::::::::::::::::::::::::::'"
      ]
     },
     "execution_count": 6,
     "metadata": {},
     "output_type": "execute_result"
    }
   ],
   "source": [
    "#convert file to ascii art\n",
    "pkit.image_to_ascii_art(r\"E:\\Projects_flask\\proj_11\\1.automate_whatsapp\\img1.jpg\",r\"E:\\Projects_flask\\proj_11\\1.automate_whatsapp\\img1.txt\")"
   ]
  },
  {
   "cell_type": "code",
   "execution_count": 7,
   "id": "086f0979-b9b9-4f31-8d76-a267d6d304b9",
   "metadata": {},
   "outputs": [],
   "source": [
    "#text to handwriting\n",
    "pkit.text_to_handwriting(\"hello , I am Jaishree Saraswat\")"
   ]
  },
  {
   "cell_type": "code",
   "execution_count": 8,
   "id": "6e3a3f1c-fe29-4fba-854c-75bc40870952",
   "metadata": {},
   "outputs": [
    {
     "name": "stdout",
     "output_type": "stream",
     "text": [
      "--------------------\n",
      "Date: 6:7:2021\n",
      "Time: 23:29\n",
      "Phone number: +91 88252 97825\n",
      "Message: Hello dimpal\n",
      "--------------------\n",
      "\n"
     ]
    }
   ],
   "source": [
    "pkit.show_history()"
   ]
  },
  {
   "cell_type": "code",
   "execution_count": 11,
   "id": "dca8d45e-f3f1-41b2-a6be-0cc1f56e81a9",
   "metadata": {},
   "outputs": [
    {
     "data": {
      "text/plain": [
       "<function pywhatkit.wwd.tutorial_english() -> None>"
      ]
     },
     "execution_count": 11,
     "metadata": {},
     "output_type": "execute_result"
    }
   ],
   "source": [
    "# Will open a tutorial on how to use this library on YouTube in respective language\n",
    "pkit.tutorial_english"
   ]
  },
  {
   "cell_type": "code",
   "execution_count": null,
   "id": "238f003e-592e-4781-b25e-739e10555b51",
   "metadata": {},
   "outputs": [],
   "source": []
  }
 ],
 "metadata": {
  "kernelspec": {
   "display_name": "Python 3",
   "language": "python",
   "name": "python3"
  },
  "language_info": {
   "codemirror_mode": {
    "name": "ipython",
    "version": 3
   },
   "file_extension": ".py",
   "mimetype": "text/x-python",
   "name": "python",
   "nbconvert_exporter": "python",
   "pygments_lexer": "ipython3",
   "version": "3.8.8"
  }
 },
 "nbformat": 4,
 "nbformat_minor": 5
}
