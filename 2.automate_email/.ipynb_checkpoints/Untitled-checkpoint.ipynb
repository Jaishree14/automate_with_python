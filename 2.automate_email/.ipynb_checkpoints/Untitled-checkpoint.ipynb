{
 "cells": [
  {
   "cell_type": "code",
   "execution_count": 1,
   "id": "d243e143-fdb0-4a9b-b165-2a77ad534f8f",
   "metadata": {},
   "outputs": [],
   "source": [
    "import smtplib\n",
    "import csv\n",
    "from string import Template\n",
    "from email.mime.multipart import MIMEMultipart\n",
    "from email.mime.text import MIMEText"
   ]
  },
  {
   "cell_type": "code",
   "execution_count": 9,
   "id": "8031b2cb-dcf3-401d-ba47-4431648898eb",
   "metadata": {},
   "outputs": [],
   "source": [
    "def read_template(template):\n",
    " with open(template, 'r', encoding='utf-8') as template_file:\n",
    "     template_file_content = template_file.read()\n",
    "     return Template(template_file_content)"
   ]
  },
  {
   "cell_type": "code",
   "execution_count": 13,
   "id": "22a5426e-32f4-470e-a124-971c7a02c66e",
   "metadata": {},
   "outputs": [],
   "source": [
    "def main():\n",
    "    message_template = read_template('template.txt')"
   ]
  },
  {
   "cell_type": "code",
   "execution_count": 18,
   "id": "12459cf5-8f15-43a3-b03f-9b0f48ecf853",
   "metadata": {},
   "outputs": [
    {
     "data": {
      "text/plain": [
       "(235, b'2.7.0 Accepted')"
      ]
     },
     "execution_count": 18,
     "metadata": {},
     "output_type": "execute_result"
    }
   ],
   "source": [
    "s = smtplib.SMTP(host='smtp.gmail.com', port=587)\n",
    "s.starttls()\n",
    "MY_ADDRESS = 'jaishreesaraswat1998@gmail.com' \n",
    "#your gmail account address\n",
    "PASSWORD = 'Jaishree@12345'          \n",
    "#your password\n",
    "s.login(MY_ADDRESS, PASSWORD)"
   ]
  },
  {
   "cell_type": "code",
   "execution_count": 19,
   "id": "51233ad1-3514-4028-842a-92fb28927a93",
   "metadata": {},
   "outputs": [
    {
     "ename": "SyntaxError",
     "evalue": "invalid character in identifier (<ipython-input-19-8c11401d6f46>, line 1)",
     "output_type": "error",
     "traceback": [
      "\u001b[1;36m  File \u001b[1;32m\"<ipython-input-19-8c11401d6f46>\"\u001b[1;36m, line \u001b[1;32m1\u001b[0m\n\u001b[1;33m    with open(“details.csv”, “r”) as csv_file:\u001b[0m\n\u001b[1;37m                     ^\u001b[0m\n\u001b[1;31mSyntaxError\u001b[0m\u001b[1;31m:\u001b[0m invalid character in identifier\n"
     ]
    }
   ],
   "source": [
    "with open(\"details.csv\", \"r\") as csv_file:\n",
    "  csv_reader = csv.reader(csv_file, delimiter=',')\n",
    "  # the below statement will skip the first row\n",
    "  next(csv_reader)\n",
    "  for lines in csv_reader:\n",
    "   msg = MIMEMultipart() # create a message\n",
    "# add in the actual person name to the message template\n",
    "    message =    message_template.substitute(PERSON_NAME=row[0],MATH=row[2],\n",
    "    ENG=row[3],SCI=row[4])\n",
    "   print(message)\n",
    "# setup the parameters of the message\n",
    "   msg['From']=MY_ADDRESS\n",
    "   msg['To'=lines[1]\n",
    "   msg['ubject']Mid term grades”\n",
    "# add in the message body\n",
    "   msg.attach(MIMEText(message, ‘plain’))\n",
    "# send the message via the server set up earlier.\n",
    "   s.send_message(msg)\n",
    "   del msg"
   ]
  },
  {
   "cell_type": "code",
   "execution_count": null,
   "id": "4fc53e4f-2865-4ad0-97cf-f5a586e49694",
   "metadata": {},
   "outputs": [],
   "source": []
  }
 ],
 "metadata": {
  "kernelspec": {
   "display_name": "Python 3",
   "language": "python",
   "name": "python3"
  },
  "language_info": {
   "codemirror_mode": {
    "name": "ipython",
    "version": 3
   },
   "file_extension": ".py",
   "mimetype": "text/x-python",
   "name": "python",
   "nbconvert_exporter": "python",
   "pygments_lexer": "ipython3",
   "version": "3.8.8"
  }
 },
 "nbformat": 4,
 "nbformat_minor": 5
}
