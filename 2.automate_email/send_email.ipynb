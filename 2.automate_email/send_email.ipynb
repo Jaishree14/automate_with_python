{
 "cells": [
  {
   "cell_type": "code",
   "execution_count": 1,
   "id": "0a77d1bb-3246-4b9e-b24b-9853479ee7f1",
   "metadata": {},
   "outputs": [],
   "source": [
    "import smtplib, ssl"
   ]
  },
  {
   "cell_type": "code",
   "execution_count": 2,
   "id": "7d3e2df5-bc27-461b-af28-981802634b50",
   "metadata": {},
   "outputs": [
    {
     "name": "stdin",
     "output_type": "stream",
     "text": [
      "Type your password and press enter: Jaishree@12345\n"
     ]
    }
   ],
   "source": [
    "port = 587  # For starttls\n",
    "smtp_server = \"smtp.gmail.com\"\n",
    "sender_email = \"jaishreesaraswat1998@gmail.com\"\n",
    "receiver_email = \"saraswatjaishree.14@gmail.com\"\n",
    "password = input(\"Type your password and press enter:\")\n",
    "message = \" hello, Subject: Hi there\"\n",
    "\n",
    "context = ssl.create_default_context()\n",
    "with smtplib.SMTP(smtp_server, port) as server:\n",
    "   # server.ehlo()  # Can be omitted\n",
    "    server.starttls(context=context)\n",
    "   # server.ehlo()  # Can be omitted\n",
    "    server.login(sender_email, password)\n",
    "    server.sendmail(sender_email, receiver_email, message)"
   ]
  },
  {
   "cell_type": "code",
   "execution_count": null,
   "id": "0f96f1f3-4330-4f66-be97-13ca630af25d",
   "metadata": {},
   "outputs": [],
   "source": []
  }
 ],
 "metadata": {
  "kernelspec": {
   "display_name": "Python 3",
   "language": "python",
   "name": "python3"
  },
  "language_info": {
   "codemirror_mode": {
    "name": "ipython",
    "version": 3
   },
   "file_extension": ".py",
   "mimetype": "text/x-python",
   "name": "python",
   "nbconvert_exporter": "python",
   "pygments_lexer": "ipython3",
   "version": "3.8.8"
  }
 },
 "nbformat": 4,
 "nbformat_minor": 5
}
